{
 "cells": [
  {
   "cell_type": "code",
   "execution_count": 28,
   "metadata": {},
   "outputs": [
    {
     "name": "stdout",
     "output_type": "stream",
     "text": [
      "λ (Price impact): 0.884\n",
      "β (Insider intensity): 0.566\n",
      "Mean squared error between price and value: 0.2858\n"
     ]
    }
   ],
   "source": [
    "import numpy as np\n",
    "%matplotlib qt\n",
    "import matplotlib.pyplot as plt\n",
    "import pandas as pd\n",
    "\n",
    "# initial parameters\n",
    "Sigma0 = 0.5        # Prior variance of v\n",
    "sigma_u = 0.4       # Std. dev. of noise trader demand\n",
    "p0 = 100            # Prior mean of asset value\n",
    "n = 100            # Number of simulated trades\n",
    "\n",
    "# Kyle equilibrium\n",
    "lambda_kyle = np.sqrt(Sigma0) / (2 * sigma_u)\n",
    "beta_kyle = sigma_u / np.sqrt(Sigma0)\n",
    "\n",
    "# Simulating true asset values and noise\n",
    "v = np.random.normal(loc=p0, scale=np.sqrt(Sigma0), size=n)\n",
    "u = np.random.normal(loc=0, scale=sigma_u, size=n)\n",
    "\n",
    "# Insider order\n",
    "x = beta_kyle * (v - p0)\n",
    "\n",
    "# Total order flow\n",
    "y = x + u\n",
    "\n",
    "# Market price\n",
    "p = p0 + lambda_kyle * y\n",
    "\n",
    "# === Analysis ===\n",
    "\n",
    "# Price error\n",
    "error = p - v\n",
    "mse = np.mean(error**2)\n",
    "\n",
    "print(f\"λ (Price impact): {lambda_kyle:.3f}\")\n",
    "print(f\"β (Insider intensity): {beta_kyle:.3f}\")\n",
    "print(f\"Mean squared error between price and value: {mse:.4f}\")\n",
    "\n",
    "# === Plot ===\n",
    "\n",
    "plt.figure(figsize=(7, 5))\n",
    "plt.scatter(v, p, alpha=0.4, label=\"Prices vs. True Value\")\n",
    "plt.plot(v, v, color='red', label=\"Perfect Price = Value\", linewidth=2)\n",
    "plt.xlabel(\"True Asset Value (v)\")\n",
    "plt.ylabel(\"Market Price (p)\")\n",
    "plt.title(\"Kyle Single-Period: Price vs. True Value\")\n",
    "plt.legend()\n",
    "plt.grid(True)\n",
    "plt.tight_layout()\n",
    "plt.show()\n"
   ]
  },
  {
   "cell_type": "code",
   "execution_count": 25,
   "metadata": {},
   "outputs": [
    {
     "data": {
      "text/plain": [
       "[<matplotlib.lines.Line2D at 0x1226c3740>]"
      ]
     },
     "execution_count": 25,
     "metadata": {},
     "output_type": "execute_result"
    }
   ],
   "source": [
    "# plot of simulated omega\n",
    "plt.plot(y)"
   ]
  },
  {
   "cell_type": "code",
   "execution_count": 26,
   "metadata": {},
   "outputs": [
    {
     "name": "stdout",
     "output_type": "stream",
     "text": [
      "Kyle Model Simulation Results (Fixed Lambda):\n",
      "   Total Order Flow (omega)   Price (p)\n",
      "0                 -0.328741   99.709431\n",
      "1                 -0.337902   99.701334\n",
      "2                  0.119332  100.105475\n",
      "3                 -0.280100   99.752424\n",
      "4                  0.976887  100.863454\n"
     ]
    }
   ],
   "source": [
    "# price and total order flow\n",
    "fig, axes = plt.subplots(2, 1, figsize=(10, 8))\n",
    "axes[0].plot(y)\n",
    "axes[1].plot(p)\n",
    "\n",
    "results_kyle = pd.DataFrame({\n",
    "    'Total Order Flow (omega)': y,\n",
    "    'Price (p)': p\n",
    "})\n",
    "print(\"Kyle Model Simulation Results (Fixed Lambda):\")\n",
    "print(results_kyle.head())"
   ]
  },
  {
   "cell_type": "code",
   "execution_count": 27,
   "metadata": {},
   "outputs": [
    {
     "name": "stderr",
     "output_type": "stream",
     "text": [
      "<>:5: SyntaxWarning: invalid escape sequence '\\o'\n",
      "<>:7: SyntaxWarning: invalid escape sequence '\\l'\n",
      "<>:11: SyntaxWarning: invalid escape sequence '\\m'\n",
      "<>:5: SyntaxWarning: invalid escape sequence '\\o'\n",
      "<>:7: SyntaxWarning: invalid escape sequence '\\l'\n",
      "<>:11: SyntaxWarning: invalid escape sequence '\\m'\n",
      "/var/folders/xx/h26qxyld2fb7n13d0cvby8ww0000gn/T/ipykernel_68844/2867614936.py:5: SyntaxWarning: invalid escape sequence '\\o'\n",
      "  plt.xlabel('Total Order Flow ($\\omega$)')\n",
      "/var/folders/xx/h26qxyld2fb7n13d0cvby8ww0000gn/T/ipykernel_68844/2867614936.py:7: SyntaxWarning: invalid escape sequence '\\l'\n",
      "  plt.title(f'Kyle Model: Price vs. Order Flow ($\\lambda = {lambda_kyle}$)')\n",
      "/var/folders/xx/h26qxyld2fb7n13d0cvby8ww0000gn/T/ipykernel_68844/2867614936.py:11: SyntaxWarning: invalid escape sequence '\\m'\n",
      "  plt.plot(omega_range, price_line, color='green', label='Pricing Rule: p = $\\mu + \\lambda \\omega$')\n"
     ]
    }
   ],
   "source": [
    "# price and total order flow\n",
    "plt.figure(figsize=(8, 5))\n",
    "plt.scatter(results_kyle['Total Order Flow (omega)'], results_kyle['Price (p)'], alpha=0.7)\n",
    "plt.axhline(p0, color='red', linestyle='--', label=f'Prior E[v] = {p0}')\n",
    "plt.xlabel('Total Order Flow ($\\omega$)')\n",
    "plt.ylabel('Resulting Price (p)')\n",
    "plt.title(f'Kyle Model: Price vs. Order Flow ($\\lambda = {lambda_kyle}$)')\n",
    "# Plot the pricing rule line\n",
    "omega_range = np.linspace(results_kyle['Total Order Flow (omega)'].min(), results_kyle['Total Order Flow (omega)'].max(), 50)\n",
    "price_line = p0 + lambda_kyle * omega_range\n",
    "plt.plot(omega_range, price_line, color='green', label='Pricing Rule: p = $\\mu + \\lambda \\omega$')\n",
    "plt.legend()\n",
    "plt.grid(True, linestyle='--', alpha=0.6)\n",
    "plt.show()"
   ]
  }
 ],
 "metadata": {
  "kernelspec": {
   "display_name": "myenv",
   "language": "python",
   "name": "python3"
  },
  "language_info": {
   "codemirror_mode": {
    "name": "ipython",
    "version": 3
   },
   "file_extension": ".py",
   "mimetype": "text/x-python",
   "name": "python",
   "nbconvert_exporter": "python",
   "pygments_lexer": "ipython3",
   "version": "3.12.3"
  }
 },
 "nbformat": 4,
 "nbformat_minor": 2
}
